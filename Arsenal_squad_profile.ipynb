{
 "cells": [
  {
   "cell_type": "markdown",
   "metadata": {},
   "source": [
    "# Arsenal - Squad Profile Analysis\n",
    "\n",
    "This is an analytics exercise to look at distribution of minutes across the different age-groups in the squad. \n",
    "\n",
    "Arsenal are entering a rebuilding phase and have a promising crop of academy players and other young talents. \n",
    "\n",
    "I'm interested to see if the squad is trending younger and if we are giving our youth talent enough game-time to properly develop them.\n",
    "\n",
    "I did a similar [exercise](https://github.com/vpn75/squad_age_profile/blob/master/squad_age_profile_analysis.md) using R and I wanted to try and recreate it in Python. I will also be using a newer data-viz library, [Altair](https://altair-viz.github.io/getting_started/overview.html) that I've been interested in learning."
   ]
  },
  {
   "cell_type": "code",
   "execution_count": 273,
   "metadata": {},
   "outputs": [],
   "source": [
    "#Package imports\n",
    "import requests\n",
    "from bs4 import BeautifulSoup\n",
    "import pandas as pd\n",
    "import numpy as np\n",
    "import altair as alt\n",
    "import re\n",
    "import json"
   ]
  },
  {
   "cell_type": "markdown",
   "metadata": {},
   "source": [
    "We'll start by scraping the squad data for Arsenal in the Premier League this season."
   ]
  },
  {
   "cell_type": "code",
   "execution_count": 201,
   "metadata": {},
   "outputs": [],
   "source": [
    "url = 'http://us.soccerway.com/teams/england/arsenal-fc/660/squad/'\n",
    "\n",
    "html = requests.get(url).text\n",
    "\n",
    "soup = BeautifulSoup(html, 'html.parser')\n",
    "\n",
    "data = []\n",
    "\n",
    "table = soup.find_all('table')[0]\n",
    "trs = table.find_all('tr')[1:] #Skip header row\n",
    "\n",
    "for tr in trs:\n",
    "    player = [c.text.strip() for c in tr.find_all('td')[2:8]]\n",
    "    player.pop(1) #Remove 2nd list element containing nationality flag\n",
    "    data.append(player)\n"
   ]
  },
  {
   "cell_type": "markdown",
   "metadata": {},
   "source": [
    "Now that we have our scraped data, we'll convert it to a Pandas dataframe."
   ]
  },
  {
   "cell_type": "code",
   "execution_count": 202,
   "metadata": {},
   "outputs": [],
   "source": [
    "df = pd.DataFrame(data)\n",
    "df.columns = ['player', 'age', 'position', 'minutes', 'appearances']"
   ]
  },
  {
   "cell_type": "markdown",
   "metadata": {},
   "source": [
    "We'll need to convert some of the columns to numeric for our analysis."
   ]
  },
  {
   "cell_type": "code",
   "execution_count": 203,
   "metadata": {},
   "outputs": [
    {
     "data": {
      "text/plain": [
       "player         object\n",
       "age             int64\n",
       "position       object\n",
       "minutes         int64\n",
       "appearances     int64\n",
       "dtype: object"
      ]
     },
     "execution_count": 203,
     "metadata": {},
     "output_type": "execute_result"
    }
   ],
   "source": [
    "#Convert cols to numeric\n",
    "cols = ['age','minutes','appearances']\n",
    "df[cols] = df[cols].apply(pd.to_numeric)\n",
    "\n",
    "#Confirm dtype conversion\n",
    "df.dtypes"
   ]
  },
  {
   "cell_type": "markdown",
   "metadata": {},
   "source": [
    "Let's filter out any players that did not feature in the league."
   ]
  },
  {
   "cell_type": "code",
   "execution_count": 204,
   "metadata": {},
   "outputs": [],
   "source": [
    "df = df[df.appearances > 0]"
   ]
  },
  {
   "cell_type": "markdown",
   "metadata": {},
   "source": [
    "We'll do some more data-cleaning by converting the **position** column to a categorical value and re-classify them to make it more readable.\n",
    "\n",
    "Also noticed that Maitland-Niles was classified as a Midfielder for some reason when he had made most of his appearances at RB so changed his position to Defense.\n",
    "\n",
    "We'll also update name of defender, Sokratis to improve display in our final viz."
   ]
  },
  {
   "cell_type": "code",
   "execution_count": 205,
   "metadata": {},
   "outputs": [
    {
     "data": {
      "text/html": [
       "<div>\n",
       "<style scoped>\n",
       "    .dataframe tbody tr th:only-of-type {\n",
       "        vertical-align: middle;\n",
       "    }\n",
       "\n",
       "    .dataframe tbody tr th {\n",
       "        vertical-align: top;\n",
       "    }\n",
       "\n",
       "    .dataframe thead th {\n",
       "        text-align: right;\n",
       "    }\n",
       "</style>\n",
       "<table border=\"1\" class=\"dataframe\">\n",
       "  <thead>\n",
       "    <tr style=\"text-align: right;\">\n",
       "      <th></th>\n",
       "      <th>player</th>\n",
       "      <th>age</th>\n",
       "      <th>position</th>\n",
       "      <th>minutes</th>\n",
       "      <th>appearances</th>\n",
       "    </tr>\n",
       "  </thead>\n",
       "  <tbody>\n",
       "    <tr>\n",
       "      <th>0</th>\n",
       "      <td>B. Leno</td>\n",
       "      <td>27</td>\n",
       "      <td>Goalie</td>\n",
       "      <td>2340</td>\n",
       "      <td>26</td>\n",
       "    </tr>\n",
       "    <tr>\n",
       "      <th>3</th>\n",
       "      <td>Bellerín</td>\n",
       "      <td>24</td>\n",
       "      <td>Defense</td>\n",
       "      <td>533</td>\n",
       "      <td>6</td>\n",
       "    </tr>\n",
       "    <tr>\n",
       "      <th>4</th>\n",
       "      <td>K. Tierney</td>\n",
       "      <td>22</td>\n",
       "      <td>Defense</td>\n",
       "      <td>299</td>\n",
       "      <td>5</td>\n",
       "    </tr>\n",
       "    <tr>\n",
       "      <th>5</th>\n",
       "      <td>Sokratis</td>\n",
       "      <td>31</td>\n",
       "      <td>Defense</td>\n",
       "      <td>1607</td>\n",
       "      <td>18</td>\n",
       "    </tr>\n",
       "    <tr>\n",
       "      <th>6</th>\n",
       "      <td>R. Holding</td>\n",
       "      <td>24</td>\n",
       "      <td>Defense</td>\n",
       "      <td>86</td>\n",
       "      <td>2</td>\n",
       "    </tr>\n",
       "    <tr>\n",
       "      <th>7</th>\n",
       "      <td>S. Mustafi</td>\n",
       "      <td>27</td>\n",
       "      <td>Defense</td>\n",
       "      <td>530</td>\n",
       "      <td>7</td>\n",
       "    </tr>\n",
       "    <tr>\n",
       "      <th>8</th>\n",
       "      <td>C. Chambers</td>\n",
       "      <td>25</td>\n",
       "      <td>Defense</td>\n",
       "      <td>1103</td>\n",
       "      <td>14</td>\n",
       "    </tr>\n",
       "    <tr>\n",
       "      <th>9</th>\n",
       "      <td>David Luiz</td>\n",
       "      <td>32</td>\n",
       "      <td>Defense</td>\n",
       "      <td>2006</td>\n",
       "      <td>23</td>\n",
       "    </tr>\n",
       "    <tr>\n",
       "      <th>10</th>\n",
       "      <td>S. Kolašinac</td>\n",
       "      <td>26</td>\n",
       "      <td>Defense</td>\n",
       "      <td>1089</td>\n",
       "      <td>16</td>\n",
       "    </tr>\n",
       "    <tr>\n",
       "      <th>15</th>\n",
       "      <td>Dani Ceballos</td>\n",
       "      <td>23</td>\n",
       "      <td>Midfield</td>\n",
       "      <td>745</td>\n",
       "      <td>12</td>\n",
       "    </tr>\n",
       "    <tr>\n",
       "      <th>16</th>\n",
       "      <td>M. Özil</td>\n",
       "      <td>31</td>\n",
       "      <td>Midfield</td>\n",
       "      <td>1278</td>\n",
       "      <td>16</td>\n",
       "    </tr>\n",
       "    <tr>\n",
       "      <th>17</th>\n",
       "      <td>L. Torreira</td>\n",
       "      <td>24</td>\n",
       "      <td>Midfield</td>\n",
       "      <td>1357</td>\n",
       "      <td>23</td>\n",
       "    </tr>\n",
       "    <tr>\n",
       "      <th>18</th>\n",
       "      <td>A. Maitland-Niles</td>\n",
       "      <td>22</td>\n",
       "      <td>Defense</td>\n",
       "      <td>1211</td>\n",
       "      <td>14</td>\n",
       "    </tr>\n",
       "    <tr>\n",
       "      <th>19</th>\n",
       "      <td>J. Willock</td>\n",
       "      <td>20</td>\n",
       "      <td>Midfield</td>\n",
       "      <td>576</td>\n",
       "      <td>19</td>\n",
       "    </tr>\n",
       "    <tr>\n",
       "      <th>20</th>\n",
       "      <td>M. Guendouzi</td>\n",
       "      <td>20</td>\n",
       "      <td>Midfield</td>\n",
       "      <td>1582</td>\n",
       "      <td>21</td>\n",
       "    </tr>\n",
       "    <tr>\n",
       "      <th>21</th>\n",
       "      <td>G. Xhaka</td>\n",
       "      <td>27</td>\n",
       "      <td>Midfield</td>\n",
       "      <td>1728</td>\n",
       "      <td>20</td>\n",
       "    </tr>\n",
       "    <tr>\n",
       "      <th>22</th>\n",
       "      <td>B. Saka</td>\n",
       "      <td>18</td>\n",
       "      <td>Midfield</td>\n",
       "      <td>1014</td>\n",
       "      <td>16</td>\n",
       "    </tr>\n",
       "    <tr>\n",
       "      <th>25</th>\n",
       "      <td>A. Lacazette</td>\n",
       "      <td>28</td>\n",
       "      <td>Forward</td>\n",
       "      <td>1287</td>\n",
       "      <td>19</td>\n",
       "    </tr>\n",
       "    <tr>\n",
       "      <th>26</th>\n",
       "      <td>P. Aubameyang</td>\n",
       "      <td>30</td>\n",
       "      <td>Forward</td>\n",
       "      <td>2125</td>\n",
       "      <td>24</td>\n",
       "    </tr>\n",
       "    <tr>\n",
       "      <th>27</th>\n",
       "      <td>N. Pépé</td>\n",
       "      <td>24</td>\n",
       "      <td>Forward</td>\n",
       "      <td>1432</td>\n",
       "      <td>22</td>\n",
       "    </tr>\n",
       "    <tr>\n",
       "      <th>28</th>\n",
       "      <td>R. Nelson</td>\n",
       "      <td>20</td>\n",
       "      <td>Forward</td>\n",
       "      <td>440</td>\n",
       "      <td>10</td>\n",
       "    </tr>\n",
       "    <tr>\n",
       "      <th>29</th>\n",
       "      <td>E. Nketiah</td>\n",
       "      <td>20</td>\n",
       "      <td>Forward</td>\n",
       "      <td>102</td>\n",
       "      <td>3</td>\n",
       "    </tr>\n",
       "    <tr>\n",
       "      <th>30</th>\n",
       "      <td>Martinelli</td>\n",
       "      <td>18</td>\n",
       "      <td>Forward</td>\n",
       "      <td>656</td>\n",
       "      <td>14</td>\n",
       "    </tr>\n",
       "  </tbody>\n",
       "</table>\n",
       "</div>"
      ],
      "text/plain": [
       "               player  age  position  minutes  appearances\n",
       "0             B. Leno   27    Goalie     2340           26\n",
       "3            Bellerín   24   Defense      533            6\n",
       "4          K. Tierney   22   Defense      299            5\n",
       "5            Sokratis   31   Defense     1607           18\n",
       "6          R. Holding   24   Defense       86            2\n",
       "7          S. Mustafi   27   Defense      530            7\n",
       "8         C. Chambers   25   Defense     1103           14\n",
       "9          David Luiz   32   Defense     2006           23\n",
       "10       S. Kolašinac   26   Defense     1089           16\n",
       "15      Dani Ceballos   23  Midfield      745           12\n",
       "16            M. Özil   31  Midfield     1278           16\n",
       "17        L. Torreira   24  Midfield     1357           23\n",
       "18  A. Maitland-Niles   22   Defense     1211           14\n",
       "19         J. Willock   20  Midfield      576           19\n",
       "20       M. Guendouzi   20  Midfield     1582           21\n",
       "21           G. Xhaka   27  Midfield     1728           20\n",
       "22            B. Saka   18  Midfield     1014           16\n",
       "25       A. Lacazette   28   Forward     1287           19\n",
       "26      P. Aubameyang   30   Forward     2125           24\n",
       "27            N. Pépé   24   Forward     1432           22\n",
       "28          R. Nelson   20   Forward      440           10\n",
       "29         E. Nketiah   20   Forward      102            3\n",
       "30         Martinelli   18   Forward      656           14"
      ]
     },
     "execution_count": 205,
     "metadata": {},
     "output_type": "execute_result"
    }
   ],
   "source": [
    "df.loc[df.player == 'A. Maitland-Niles', ['position']] = 'D'\n",
    "df['position'] = df['position'].map({'A':'Forward','G':'Goalie','D':'Defense', 'M':'Midfield'}).astype('category')\n",
    "df['player'] = df['player'].str.replace('S. Papastathopoulos','Sokratis')\n",
    "\n",
    "df.head()"
   ]
  },
  {
   "cell_type": "markdown",
   "metadata": {},
   "source": [
    "Next, we'll add a new column that calculates the percentage of total league-minutes played per player."
   ]
  },
  {
   "cell_type": "code",
   "execution_count": 206,
   "metadata": {},
   "outputs": [
    {
     "data": {
      "text/html": [
       "<div>\n",
       "<style scoped>\n",
       "    .dataframe tbody tr th:only-of-type {\n",
       "        vertical-align: middle;\n",
       "    }\n",
       "\n",
       "    .dataframe tbody tr th {\n",
       "        vertical-align: top;\n",
       "    }\n",
       "\n",
       "    .dataframe thead th {\n",
       "        text-align: right;\n",
       "    }\n",
       "</style>\n",
       "<table border=\"1\" class=\"dataframe\">\n",
       "  <thead>\n",
       "    <tr style=\"text-align: right;\">\n",
       "      <th></th>\n",
       "      <th>player</th>\n",
       "      <th>age</th>\n",
       "      <th>position</th>\n",
       "      <th>minutes</th>\n",
       "      <th>appearances</th>\n",
       "      <th>mp_pct</th>\n",
       "    </tr>\n",
       "  </thead>\n",
       "  <tbody>\n",
       "    <tr>\n",
       "      <th>0</th>\n",
       "      <td>B. Leno</td>\n",
       "      <td>27</td>\n",
       "      <td>Goalie</td>\n",
       "      <td>2340</td>\n",
       "      <td>26</td>\n",
       "      <td>1.00</td>\n",
       "    </tr>\n",
       "    <tr>\n",
       "      <th>3</th>\n",
       "      <td>Bellerín</td>\n",
       "      <td>24</td>\n",
       "      <td>Defense</td>\n",
       "      <td>533</td>\n",
       "      <td>6</td>\n",
       "      <td>0.23</td>\n",
       "    </tr>\n",
       "    <tr>\n",
       "      <th>4</th>\n",
       "      <td>K. Tierney</td>\n",
       "      <td>22</td>\n",
       "      <td>Defense</td>\n",
       "      <td>299</td>\n",
       "      <td>5</td>\n",
       "      <td>0.13</td>\n",
       "    </tr>\n",
       "    <tr>\n",
       "      <th>5</th>\n",
       "      <td>Sokratis</td>\n",
       "      <td>31</td>\n",
       "      <td>Defense</td>\n",
       "      <td>1607</td>\n",
       "      <td>18</td>\n",
       "      <td>0.69</td>\n",
       "    </tr>\n",
       "    <tr>\n",
       "      <th>6</th>\n",
       "      <td>R. Holding</td>\n",
       "      <td>24</td>\n",
       "      <td>Defense</td>\n",
       "      <td>86</td>\n",
       "      <td>2</td>\n",
       "      <td>0.04</td>\n",
       "    </tr>\n",
       "  </tbody>\n",
       "</table>\n",
       "</div>"
      ],
      "text/plain": [
       "       player  age position  minutes  appearances  mp_pct\n",
       "0     B. Leno   27   Goalie     2340           26    1.00\n",
       "3    Bellerín   24  Defense      533            6    0.23\n",
       "4  K. Tierney   22  Defense      299            5    0.13\n",
       "5    Sokratis   31  Defense     1607           18    0.69\n",
       "6  R. Holding   24  Defense       86            2    0.04"
      ]
     },
     "execution_count": 206,
     "metadata": {},
     "output_type": "execute_result"
    }
   ],
   "source": [
    "gp = df.appearances.max()\n",
    "\n",
    "df['mp_pct'] = round(df['minutes']/(gp*90), 2)\n",
    "df.head()"
   ]
  },
  {
   "cell_type": "markdown",
   "metadata": {},
   "source": [
    "I wasn't happy with the way the player names looked. \n",
    "\n",
    "Some had first initial but others like Bellerin, just had their lastname. \n",
    "\n",
    "Let's split out the name so we can separate the last name from the first initial."
   ]
  },
  {
   "cell_type": "code",
   "execution_count": 207,
   "metadata": {},
   "outputs": [
    {
     "data": {
      "text/html": [
       "<div>\n",
       "<style scoped>\n",
       "    .dataframe tbody tr th:only-of-type {\n",
       "        vertical-align: middle;\n",
       "    }\n",
       "\n",
       "    .dataframe tbody tr th {\n",
       "        vertical-align: top;\n",
       "    }\n",
       "\n",
       "    .dataframe thead th {\n",
       "        text-align: right;\n",
       "    }\n",
       "</style>\n",
       "<table border=\"1\" class=\"dataframe\">\n",
       "  <thead>\n",
       "    <tr style=\"text-align: right;\">\n",
       "      <th></th>\n",
       "      <th>player</th>\n",
       "      <th>age</th>\n",
       "      <th>position</th>\n",
       "      <th>minutes</th>\n",
       "      <th>appearances</th>\n",
       "      <th>mp_pct</th>\n",
       "      <th>fname</th>\n",
       "      <th>lname</th>\n",
       "    </tr>\n",
       "  </thead>\n",
       "  <tbody>\n",
       "    <tr>\n",
       "      <th>0</th>\n",
       "      <td>B. Leno</td>\n",
       "      <td>27</td>\n",
       "      <td>Goalie</td>\n",
       "      <td>2340</td>\n",
       "      <td>26</td>\n",
       "      <td>1.00</td>\n",
       "      <td>B.</td>\n",
       "      <td>Leno</td>\n",
       "    </tr>\n",
       "    <tr>\n",
       "      <th>1</th>\n",
       "      <td>Bellerín</td>\n",
       "      <td>24</td>\n",
       "      <td>Defense</td>\n",
       "      <td>533</td>\n",
       "      <td>6</td>\n",
       "      <td>0.23</td>\n",
       "      <td>Bellerín</td>\n",
       "      <td>None</td>\n",
       "    </tr>\n",
       "    <tr>\n",
       "      <th>2</th>\n",
       "      <td>K. Tierney</td>\n",
       "      <td>22</td>\n",
       "      <td>Defense</td>\n",
       "      <td>299</td>\n",
       "      <td>5</td>\n",
       "      <td>0.13</td>\n",
       "      <td>K.</td>\n",
       "      <td>Tierney</td>\n",
       "    </tr>\n",
       "    <tr>\n",
       "      <th>3</th>\n",
       "      <td>Sokratis</td>\n",
       "      <td>31</td>\n",
       "      <td>Defense</td>\n",
       "      <td>1607</td>\n",
       "      <td>18</td>\n",
       "      <td>0.69</td>\n",
       "      <td>Sokratis</td>\n",
       "      <td>None</td>\n",
       "    </tr>\n",
       "    <tr>\n",
       "      <th>4</th>\n",
       "      <td>R. Holding</td>\n",
       "      <td>24</td>\n",
       "      <td>Defense</td>\n",
       "      <td>86</td>\n",
       "      <td>2</td>\n",
       "      <td>0.04</td>\n",
       "      <td>R.</td>\n",
       "      <td>Holding</td>\n",
       "    </tr>\n",
       "  </tbody>\n",
       "</table>\n",
       "</div>"
      ],
      "text/plain": [
       "       player  age position  minutes  appearances  mp_pct     fname    lname\n",
       "0     B. Leno   27   Goalie     2340           26    1.00        B.     Leno\n",
       "1    Bellerín   24  Defense      533            6    0.23  Bellerín     None\n",
       "2  K. Tierney   22  Defense      299            5    0.13        K.  Tierney\n",
       "3    Sokratis   31  Defense     1607           18    0.69  Sokratis     None\n",
       "4  R. Holding   24  Defense       86            2    0.04        R.  Holding"
      ]
     },
     "execution_count": 207,
     "metadata": {},
     "output_type": "execute_result"
    }
   ],
   "source": [
    "tdf = df.reset_index(drop=True).copy()\n",
    "\n",
    "tdf[['fname','lname']] = tdf.player.str.split(expand=True)\n",
    "\n",
    "tdf.head()"
   ]
  },
  {
   "cell_type": "markdown",
   "metadata": {},
   "source": [
    "OK, looking better but we can see we have an issue players that did not have first initials. They have NA values for lname now so let's clean them up.\n",
    "\n",
    "For the players with nulls in lname, we'll just replace with the value from **player**."
   ]
  },
  {
   "cell_type": "code",
   "execution_count": 208,
   "metadata": {},
   "outputs": [
    {
     "data": {
      "text/html": [
       "<div>\n",
       "<style scoped>\n",
       "    .dataframe tbody tr th:only-of-type {\n",
       "        vertical-align: middle;\n",
       "    }\n",
       "\n",
       "    .dataframe tbody tr th {\n",
       "        vertical-align: top;\n",
       "    }\n",
       "\n",
       "    .dataframe thead th {\n",
       "        text-align: right;\n",
       "    }\n",
       "</style>\n",
       "<table border=\"1\" class=\"dataframe\">\n",
       "  <thead>\n",
       "    <tr style=\"text-align: right;\">\n",
       "      <th></th>\n",
       "      <th>player</th>\n",
       "      <th>age</th>\n",
       "      <th>position</th>\n",
       "      <th>minutes</th>\n",
       "      <th>appearances</th>\n",
       "      <th>mp_pct</th>\n",
       "      <th>lname</th>\n",
       "    </tr>\n",
       "  </thead>\n",
       "  <tbody>\n",
       "    <tr>\n",
       "      <th>0</th>\n",
       "      <td>B. Leno</td>\n",
       "      <td>27</td>\n",
       "      <td>Goalie</td>\n",
       "      <td>2340</td>\n",
       "      <td>26</td>\n",
       "      <td>1.00</td>\n",
       "      <td>Leno</td>\n",
       "    </tr>\n",
       "    <tr>\n",
       "      <th>1</th>\n",
       "      <td>Bellerín</td>\n",
       "      <td>24</td>\n",
       "      <td>Defense</td>\n",
       "      <td>533</td>\n",
       "      <td>6</td>\n",
       "      <td>0.23</td>\n",
       "      <td>Bellerín</td>\n",
       "    </tr>\n",
       "    <tr>\n",
       "      <th>2</th>\n",
       "      <td>K. Tierney</td>\n",
       "      <td>22</td>\n",
       "      <td>Defense</td>\n",
       "      <td>299</td>\n",
       "      <td>5</td>\n",
       "      <td>0.13</td>\n",
       "      <td>Tierney</td>\n",
       "    </tr>\n",
       "    <tr>\n",
       "      <th>3</th>\n",
       "      <td>Sokratis</td>\n",
       "      <td>31</td>\n",
       "      <td>Defense</td>\n",
       "      <td>1607</td>\n",
       "      <td>18</td>\n",
       "      <td>0.69</td>\n",
       "      <td>Sokratis</td>\n",
       "    </tr>\n",
       "    <tr>\n",
       "      <th>4</th>\n",
       "      <td>R. Holding</td>\n",
       "      <td>24</td>\n",
       "      <td>Defense</td>\n",
       "      <td>86</td>\n",
       "      <td>2</td>\n",
       "      <td>0.04</td>\n",
       "      <td>Holding</td>\n",
       "    </tr>\n",
       "    <tr>\n",
       "      <th>5</th>\n",
       "      <td>S. Mustafi</td>\n",
       "      <td>27</td>\n",
       "      <td>Defense</td>\n",
       "      <td>530</td>\n",
       "      <td>7</td>\n",
       "      <td>0.23</td>\n",
       "      <td>Mustafi</td>\n",
       "    </tr>\n",
       "    <tr>\n",
       "      <th>6</th>\n",
       "      <td>C. Chambers</td>\n",
       "      <td>25</td>\n",
       "      <td>Defense</td>\n",
       "      <td>1103</td>\n",
       "      <td>14</td>\n",
       "      <td>0.47</td>\n",
       "      <td>Chambers</td>\n",
       "    </tr>\n",
       "    <tr>\n",
       "      <th>7</th>\n",
       "      <td>David Luiz</td>\n",
       "      <td>32</td>\n",
       "      <td>Defense</td>\n",
       "      <td>2006</td>\n",
       "      <td>23</td>\n",
       "      <td>0.86</td>\n",
       "      <td>Luiz</td>\n",
       "    </tr>\n",
       "    <tr>\n",
       "      <th>8</th>\n",
       "      <td>S. Kolašinac</td>\n",
       "      <td>26</td>\n",
       "      <td>Defense</td>\n",
       "      <td>1089</td>\n",
       "      <td>16</td>\n",
       "      <td>0.47</td>\n",
       "      <td>Kolašinac</td>\n",
       "    </tr>\n",
       "    <tr>\n",
       "      <th>9</th>\n",
       "      <td>Dani Ceballos</td>\n",
       "      <td>23</td>\n",
       "      <td>Midfield</td>\n",
       "      <td>745</td>\n",
       "      <td>12</td>\n",
       "      <td>0.32</td>\n",
       "      <td>Ceballos</td>\n",
       "    </tr>\n",
       "    <tr>\n",
       "      <th>10</th>\n",
       "      <td>M. Özil</td>\n",
       "      <td>31</td>\n",
       "      <td>Midfield</td>\n",
       "      <td>1278</td>\n",
       "      <td>16</td>\n",
       "      <td>0.55</td>\n",
       "      <td>Özil</td>\n",
       "    </tr>\n",
       "    <tr>\n",
       "      <th>11</th>\n",
       "      <td>L. Torreira</td>\n",
       "      <td>24</td>\n",
       "      <td>Midfield</td>\n",
       "      <td>1357</td>\n",
       "      <td>23</td>\n",
       "      <td>0.58</td>\n",
       "      <td>Torreira</td>\n",
       "    </tr>\n",
       "    <tr>\n",
       "      <th>12</th>\n",
       "      <td>A. Maitland-Niles</td>\n",
       "      <td>22</td>\n",
       "      <td>Defense</td>\n",
       "      <td>1211</td>\n",
       "      <td>14</td>\n",
       "      <td>0.52</td>\n",
       "      <td>Maitland-Niles</td>\n",
       "    </tr>\n",
       "    <tr>\n",
       "      <th>13</th>\n",
       "      <td>J. Willock</td>\n",
       "      <td>20</td>\n",
       "      <td>Midfield</td>\n",
       "      <td>576</td>\n",
       "      <td>19</td>\n",
       "      <td>0.25</td>\n",
       "      <td>Willock</td>\n",
       "    </tr>\n",
       "    <tr>\n",
       "      <th>14</th>\n",
       "      <td>M. Guendouzi</td>\n",
       "      <td>20</td>\n",
       "      <td>Midfield</td>\n",
       "      <td>1582</td>\n",
       "      <td>21</td>\n",
       "      <td>0.68</td>\n",
       "      <td>Guendouzi</td>\n",
       "    </tr>\n",
       "    <tr>\n",
       "      <th>15</th>\n",
       "      <td>G. Xhaka</td>\n",
       "      <td>27</td>\n",
       "      <td>Midfield</td>\n",
       "      <td>1728</td>\n",
       "      <td>20</td>\n",
       "      <td>0.74</td>\n",
       "      <td>Xhaka</td>\n",
       "    </tr>\n",
       "    <tr>\n",
       "      <th>16</th>\n",
       "      <td>B. Saka</td>\n",
       "      <td>18</td>\n",
       "      <td>Midfield</td>\n",
       "      <td>1014</td>\n",
       "      <td>16</td>\n",
       "      <td>0.43</td>\n",
       "      <td>Saka</td>\n",
       "    </tr>\n",
       "    <tr>\n",
       "      <th>17</th>\n",
       "      <td>A. Lacazette</td>\n",
       "      <td>28</td>\n",
       "      <td>Forward</td>\n",
       "      <td>1287</td>\n",
       "      <td>19</td>\n",
       "      <td>0.55</td>\n",
       "      <td>Lacazette</td>\n",
       "    </tr>\n",
       "    <tr>\n",
       "      <th>18</th>\n",
       "      <td>P. Aubameyang</td>\n",
       "      <td>30</td>\n",
       "      <td>Forward</td>\n",
       "      <td>2125</td>\n",
       "      <td>24</td>\n",
       "      <td>0.91</td>\n",
       "      <td>Aubameyang</td>\n",
       "    </tr>\n",
       "    <tr>\n",
       "      <th>19</th>\n",
       "      <td>N. Pépé</td>\n",
       "      <td>24</td>\n",
       "      <td>Forward</td>\n",
       "      <td>1432</td>\n",
       "      <td>22</td>\n",
       "      <td>0.61</td>\n",
       "      <td>Pépé</td>\n",
       "    </tr>\n",
       "    <tr>\n",
       "      <th>20</th>\n",
       "      <td>R. Nelson</td>\n",
       "      <td>20</td>\n",
       "      <td>Forward</td>\n",
       "      <td>440</td>\n",
       "      <td>10</td>\n",
       "      <td>0.19</td>\n",
       "      <td>Nelson</td>\n",
       "    </tr>\n",
       "    <tr>\n",
       "      <th>21</th>\n",
       "      <td>E. Nketiah</td>\n",
       "      <td>20</td>\n",
       "      <td>Forward</td>\n",
       "      <td>102</td>\n",
       "      <td>3</td>\n",
       "      <td>0.04</td>\n",
       "      <td>Nketiah</td>\n",
       "    </tr>\n",
       "    <tr>\n",
       "      <th>22</th>\n",
       "      <td>Martinelli</td>\n",
       "      <td>18</td>\n",
       "      <td>Forward</td>\n",
       "      <td>656</td>\n",
       "      <td>14</td>\n",
       "      <td>0.28</td>\n",
       "      <td>Martinelli</td>\n",
       "    </tr>\n",
       "  </tbody>\n",
       "</table>\n",
       "</div>"
      ],
      "text/plain": [
       "               player  age  position  minutes  appearances  mp_pct  \\\n",
       "0             B. Leno   27    Goalie     2340           26    1.00   \n",
       "1            Bellerín   24   Defense      533            6    0.23   \n",
       "2          K. Tierney   22   Defense      299            5    0.13   \n",
       "3            Sokratis   31   Defense     1607           18    0.69   \n",
       "4          R. Holding   24   Defense       86            2    0.04   \n",
       "5          S. Mustafi   27   Defense      530            7    0.23   \n",
       "6         C. Chambers   25   Defense     1103           14    0.47   \n",
       "7          David Luiz   32   Defense     2006           23    0.86   \n",
       "8        S. Kolašinac   26   Defense     1089           16    0.47   \n",
       "9       Dani Ceballos   23  Midfield      745           12    0.32   \n",
       "10            M. Özil   31  Midfield     1278           16    0.55   \n",
       "11        L. Torreira   24  Midfield     1357           23    0.58   \n",
       "12  A. Maitland-Niles   22   Defense     1211           14    0.52   \n",
       "13         J. Willock   20  Midfield      576           19    0.25   \n",
       "14       M. Guendouzi   20  Midfield     1582           21    0.68   \n",
       "15           G. Xhaka   27  Midfield     1728           20    0.74   \n",
       "16            B. Saka   18  Midfield     1014           16    0.43   \n",
       "17       A. Lacazette   28   Forward     1287           19    0.55   \n",
       "18      P. Aubameyang   30   Forward     2125           24    0.91   \n",
       "19            N. Pépé   24   Forward     1432           22    0.61   \n",
       "20          R. Nelson   20   Forward      440           10    0.19   \n",
       "21         E. Nketiah   20   Forward      102            3    0.04   \n",
       "22         Martinelli   18   Forward      656           14    0.28   \n",
       "\n",
       "             lname  \n",
       "0             Leno  \n",
       "1         Bellerín  \n",
       "2          Tierney  \n",
       "3         Sokratis  \n",
       "4          Holding  \n",
       "5          Mustafi  \n",
       "6         Chambers  \n",
       "7             Luiz  \n",
       "8        Kolašinac  \n",
       "9         Ceballos  \n",
       "10            Özil  \n",
       "11        Torreira  \n",
       "12  Maitland-Niles  \n",
       "13         Willock  \n",
       "14       Guendouzi  \n",
       "15           Xhaka  \n",
       "16            Saka  \n",
       "17       Lacazette  \n",
       "18      Aubameyang  \n",
       "19            Pépé  \n",
       "20          Nelson  \n",
       "21         Nketiah  \n",
       "22      Martinelli  "
      ]
     },
     "execution_count": 208,
     "metadata": {},
     "output_type": "execute_result"
    }
   ],
   "source": [
    "idx = tdf[tdf.lname.isna()].index.values\n",
    "\n",
    "for val in idx:\n",
    "    tdf.at[val,'lname'] = tdf.at[val, 'player']\n",
    "    \n",
    "tdf.drop('fname', axis=1, inplace=True)\n",
    "tdf"
   ]
  },
  {
   "cell_type": "markdown",
   "metadata": {},
   "source": [
    "## Building the viz\n",
    "\n",
    "OK, now the names look good and we're ready to build our squad-profile viz.\n",
    "\n",
    "In the past, I have been reluctant to use Python for data visualization because I was not a fan of matplotlib.\n",
    "\n",
    "Coming more from the Rstats world, I missed the declarative syntax of the awesome ggplot library.\n",
    "\n",
    "So, I was really happy when I came across the Altair package which is just a Python wrapper for [Vega-lite](https://vega.github.io/vega-lite/)\n",
    "\n",
    "It has an elegant, declarative syntax that utilizes the \"grammar of graphics\" style that I loved from ggplot2.\n",
    "\n",
    "I also find the default visual output to be more aesthetically pleasing than matplotlib.\n",
    "\n",
    "## Viz components\n",
    "\n",
    "Our squad profile viz will consist of 3 components:\n",
    "\n",
    " * Scatter plot of players with Age on **x-axis** and % played of max league minutes on **y-axis**\n",
    " * Player name labels \n",
    " * Shaded region indicating peak-age bracket\n",
    " \n",
    "We'll start by creating our base-layer that creates our scatter plot. \n",
    "\n",
    "I added some customization to the **y-axis** to display in percent-format. \n",
    "\n",
    "I also tweaked the range of the axis-ticks to improve display."
   ]
  },
  {
   "cell_type": "code",
   "execution_count": 209,
   "metadata": {},
   "outputs": [],
   "source": [
    "base = alt.Chart(tdf).encode(\n",
    "    alt.X('age:Q',\n",
    "          scale=alt.Scale(domain=[16, 34]),\n",
    "          axis=alt.Axis(values=[16,18,20,22,24,26,28,30,32,34,36]),\n",
    "          title='Player Age'\n",
    "         ),\n",
    "    alt.Y('mp_pct:Q',\n",
    "        axis=alt.Axis(format='%', \n",
    "        title='% played of max league minutes',\n",
    "        values=[.1,.2,.3,.4,.5,.6,.7,.8,.9,1]),\n",
    "        scale=alt.Scale(domain=[0, 1.01]),\n",
    "        )\n",
    ")"
   ]
  },
  {
   "cell_type": "markdown",
   "metadata": {},
   "source": [
    "Next, we'll add the marks that will create our scatter-plot. I've added a color legend based on player position using the categories we created earlier. "
   ]
  },
  {
   "cell_type": "code",
   "execution_count": 210,
   "metadata": {},
   "outputs": [],
   "source": [
    "points = base.mark_circle(size=120).encode(\n",
    "    color=alt.Color(\n",
    "        'position',\n",
    "        title='Position', \n",
    "        scale=alt.Scale(domain=(['Goalie','Defense','Midfield','Forward']))\n",
    "    )\n",
    ")"
   ]
  },
  {
   "cell_type": "markdown",
   "metadata": {},
   "source": [
    "Next, comes the player-name labels. I used the lastname rather than the playername with first initial for cleaner display."
   ]
  },
  {
   "cell_type": "code",
   "execution_count": 211,
   "metadata": {},
   "outputs": [],
   "source": [
    "text = base.mark_text(\n",
    "    align='left',\n",
    "    baseline='middle',\n",
    "    dx=10, # Nudges text to right so it doesn't appear on top of the bar\n",
    "    font='Menlo'\n",
    ").encode(\n",
    "    text='lname'\n",
    ")"
   ]
  },
  {
   "cell_type": "markdown",
   "metadata": {},
   "source": [
    "This layer will create the shaded rectangular region that will indicate the peak-age group. \n",
    "\n",
    "One thing I discovered was that I couldn't use age-values from the **x-axis** in the encoding specification. \n",
    "\n",
    "Rather, I had to pick the values based on the overall width of the final viz that you will see specified further down. \n",
    "\n",
    "This was a bit counter-intuitive and worked differently from ggplot.\n",
    "\n",
    "I defined the peak-age range as 24-30 years old."
   ]
  },
  {
   "cell_type": "code",
   "execution_count": 212,
   "metadata": {},
   "outputs": [],
   "source": [
    "rect = alt.Chart(tdf).mark_rect(fill='green').encode(\n",
    "    x=alt.value(266),\n",
    "    x2=alt.value(468),\n",
    "    opacity=alt.value(0.01)\n",
    ")"
   ]
  },
  {
   "cell_type": "markdown",
   "metadata": {},
   "source": [
    "Finally, we'll bring all the layers together and add our final customizations including font and font-size."
   ]
  },
  {
   "cell_type": "code",
   "execution_count": 277,
   "metadata": {},
   "outputs": [
    {
     "data": {
      "application/vnd.vegalite.v3+json": {
       "$schema": "https://vega.github.io/schema/vega-lite/v3.4.0.json",
       "config": {
        "axis": {
         "titleFont": "Menlo",
         "titleFontSize": 12
        },
        "legend": {
         "labelFont": "Menlo",
         "titleFont": "Menlo"
        },
        "mark": {
         "tooltip": null
        },
        "title": {
         "anchor": "start",
         "font": "Menlo",
         "fontSize": 18,
         "offset": 10,
         "orient": "top"
        },
        "view": {
         "height": 300,
         "width": 400
        }
       },
       "data": {
        "name": "data-92e15a500a04a9596cba551744fecce8"
       },
       "datasets": {
        "data-92e15a500a04a9596cba551744fecce8": [
         {
          "age": 27,
          "appearances": 26,
          "lname": "Leno",
          "minutes": 2340,
          "mp_pct": 1,
          "player": "B. Leno",
          "position": "Goalie"
         },
         {
          "age": 24,
          "appearances": 6,
          "lname": "Bellerín",
          "minutes": 533,
          "mp_pct": 0.23,
          "player": "Bellerín",
          "position": "Defense"
         },
         {
          "age": 22,
          "appearances": 5,
          "lname": "Tierney",
          "minutes": 299,
          "mp_pct": 0.13,
          "player": "K. Tierney",
          "position": "Defense"
         },
         {
          "age": 31,
          "appearances": 18,
          "lname": "Sokratis",
          "minutes": 1607,
          "mp_pct": 0.69,
          "player": "Sokratis",
          "position": "Defense"
         },
         {
          "age": 24,
          "appearances": 2,
          "lname": "Holding",
          "minutes": 86,
          "mp_pct": 0.04,
          "player": "R. Holding",
          "position": "Defense"
         },
         {
          "age": 27,
          "appearances": 7,
          "lname": "Mustafi",
          "minutes": 530,
          "mp_pct": 0.23,
          "player": "S. Mustafi",
          "position": "Defense"
         },
         {
          "age": 25,
          "appearances": 14,
          "lname": "Chambers",
          "minutes": 1103,
          "mp_pct": 0.47,
          "player": "C. Chambers",
          "position": "Defense"
         },
         {
          "age": 32,
          "appearances": 23,
          "lname": "Luiz",
          "minutes": 2006,
          "mp_pct": 0.86,
          "player": "David Luiz",
          "position": "Defense"
         },
         {
          "age": 26,
          "appearances": 16,
          "lname": "Kolašinac",
          "minutes": 1089,
          "mp_pct": 0.47,
          "player": "S. Kolašinac",
          "position": "Defense"
         },
         {
          "age": 23,
          "appearances": 12,
          "lname": "Ceballos",
          "minutes": 745,
          "mp_pct": 0.32,
          "player": "Dani Ceballos",
          "position": "Midfield"
         },
         {
          "age": 31,
          "appearances": 16,
          "lname": "Özil",
          "minutes": 1278,
          "mp_pct": 0.55,
          "player": "M. Özil",
          "position": "Midfield"
         },
         {
          "age": 24,
          "appearances": 23,
          "lname": "Torreira",
          "minutes": 1357,
          "mp_pct": 0.58,
          "player": "L. Torreira",
          "position": "Midfield"
         },
         {
          "age": 22,
          "appearances": 14,
          "lname": "Maitland-Niles",
          "minutes": 1211,
          "mp_pct": 0.52,
          "player": "A. Maitland-Niles",
          "position": "Defense"
         },
         {
          "age": 20,
          "appearances": 19,
          "lname": "Willock",
          "minutes": 576,
          "mp_pct": 0.25,
          "player": "J. Willock",
          "position": "Midfield"
         },
         {
          "age": 20,
          "appearances": 21,
          "lname": "Guendouzi",
          "minutes": 1582,
          "mp_pct": 0.68,
          "player": "M. Guendouzi",
          "position": "Midfield"
         },
         {
          "age": 27,
          "appearances": 20,
          "lname": "Xhaka",
          "minutes": 1728,
          "mp_pct": 0.74,
          "player": "G. Xhaka",
          "position": "Midfield"
         },
         {
          "age": 18,
          "appearances": 16,
          "lname": "Saka",
          "minutes": 1014,
          "mp_pct": 0.43,
          "player": "B. Saka",
          "position": "Midfield"
         },
         {
          "age": 28,
          "appearances": 19,
          "lname": "Lacazette",
          "minutes": 1287,
          "mp_pct": 0.55,
          "player": "A. Lacazette",
          "position": "Forward"
         },
         {
          "age": 30,
          "appearances": 24,
          "lname": "Aubameyang",
          "minutes": 2125,
          "mp_pct": 0.91,
          "player": "P. Aubameyang",
          "position": "Forward"
         },
         {
          "age": 24,
          "appearances": 22,
          "lname": "Pépé",
          "minutes": 1432,
          "mp_pct": 0.61,
          "player": "N. Pépé",
          "position": "Forward"
         },
         {
          "age": 20,
          "appearances": 10,
          "lname": "Nelson",
          "minutes": 440,
          "mp_pct": 0.19,
          "player": "R. Nelson",
          "position": "Forward"
         },
         {
          "age": 20,
          "appearances": 3,
          "lname": "Nketiah",
          "minutes": 102,
          "mp_pct": 0.04,
          "player": "E. Nketiah",
          "position": "Forward"
         },
         {
          "age": 18,
          "appearances": 14,
          "lname": "Martinelli",
          "minutes": 656,
          "mp_pct": 0.28,
          "player": "Martinelli",
          "position": "Forward"
         }
        ]
       },
       "height": 450,
       "layer": [
        {
         "encoding": {
          "opacity": {
           "value": 0.01
          },
          "x": {
           "value": 266
          },
          "x2": {
           "value": 468
          }
         },
         "mark": {
          "fill": "green",
          "type": "rect"
         }
        },
        {
         "encoding": {
          "color": {
           "field": "position",
           "scale": {
            "domain": [
             "Goalie",
             "Defense",
             "Midfield",
             "Forward"
            ]
           },
           "title": "Position",
           "type": "nominal"
          },
          "x": {
           "axis": {
            "values": [
             16,
             18,
             20,
             22,
             24,
             26,
             28,
             30,
             32,
             34,
             36
            ]
           },
           "field": "age",
           "scale": {
            "domain": [
             16,
             34
            ]
           },
           "title": "Player Age",
           "type": "quantitative"
          },
          "y": {
           "axis": {
            "format": "%",
            "title": "% played of max league minutes",
            "values": [
             0.1,
             0.2,
             0.3,
             0.4,
             0.5,
             0.6,
             0.7,
             0.8,
             0.9,
             1
            ]
           },
           "field": "mp_pct",
           "scale": {
            "domain": [
             0,
             1.01
            ]
           },
           "type": "quantitative"
          }
         },
         "mark": {
          "size": 120,
          "type": "circle"
         }
        },
        {
         "encoding": {
          "text": {
           "field": "lname",
           "type": "nominal"
          },
          "x": {
           "axis": {
            "values": [
             16,
             18,
             20,
             22,
             24,
             26,
             28,
             30,
             32,
             34,
             36
            ]
           },
           "field": "age",
           "scale": {
            "domain": [
             16,
             34
            ]
           },
           "title": "Player Age",
           "type": "quantitative"
          },
          "y": {
           "axis": {
            "format": "%",
            "title": "% played of max league minutes",
            "values": [
             0.1,
             0.2,
             0.3,
             0.4,
             0.5,
             0.6,
             0.7,
             0.8,
             0.9,
             1
            ]
           },
           "field": "mp_pct",
           "scale": {
            "domain": [
             0,
             1.01
            ]
           },
           "type": "quantitative"
          }
         },
         "mark": {
          "align": "left",
          "baseline": "middle",
          "dx": 10,
          "font": "Menlo",
          "type": "text"
         }
        }
       ],
       "title": "Arsenal - Squad Profile Analysis",
       "width": 600
      },
      "image/png": "[encoded data removed]",
      "text/plain": [
       "<VegaLite 3 object>\n",
       "\n",
       "If you see this message, it means the renderer has not been properly enabled\n",
       "for the frontend that you are using. For more information, see\n",
       "https://altair-viz.github.io/user_guide/troubleshooting.html\n"
      ]
     },
     "metadata": {
      "application/vnd.vegalite.v3+json": {
       "embed_options": {
        "renderer": "svg"
       }
      }
     },
     "output_type": "display_data"
    }
   ],
   "source": [
    "(rect+points+text).properties(\n",
    "    width=600, \n",
    "    height=450, \n",
    "    title='Arsenal - Squad Profile Analysis'\n",
    ").configure_title(\n",
    "        fontSize=18, \n",
    "        orient='top', \n",
    "        anchor='start', \n",
    "        offset=10, \n",
    "        font='Menlo'\n",
    ").configure_axis(\n",
    "        titleFont='Menlo',\n",
    "        titleFontSize=12\n",
    ").configure_legend(\n",
    "        titleFont='Menlo',\n",
    "        labelFont='Menlo'\n",
    ").display(renderer='svg')"
   ]
  },
  {
   "cell_type": "markdown",
   "metadata": {},
   "source": [
    "## Thoughts\n",
    "\n",
    "As my first foray into Altair, I was pretty happy with how the final viz turned out. \n",
    "\n",
    "I wish Altair supported something similar to the **ggrepl** package in R that could more intelligently space out the labels to avoid overlap.\n",
    "\n",
    "Another source of frustration was the inability to add a subtitle. \n",
    "\n",
    "Apparently Vega-lite was patched recently to support this, but I could not get it to work in my environment for some reason in spite of confirming I had the latest versions of Altair/Vega\n",
    "\n",
    "\n",
    "## Bonus analysis\n",
    "\n",
    "Let's continue our analysis on the dataset.\n",
    "\n",
    "We can look at the average age by position."
   ]
  },
  {
   "cell_type": "code",
   "execution_count": 214,
   "metadata": {},
   "outputs": [
    {
     "data": {
      "text/plain": [
       "position\n",
       "Defense     25.888889\n",
       "Forward     23.333333\n",
       "Goalie      27.000000\n",
       "Midfield    23.285714\n",
       "Name: age, dtype: float64"
      ]
     },
     "execution_count": 214,
     "metadata": {},
     "output_type": "execute_result"
    }
   ],
   "source": [
    "tdf.groupby('position').age.mean()"
   ]
  },
  {
   "cell_type": "markdown",
   "metadata": {},
   "source": [
    "Let's create another viz that shows distribution of minutes by player.\n",
    "\n",
    "We'll create a sorted bar-chart. \n",
    "\n",
    "As a bonus, we'll take advantage of Altair's interactive capabilities by adding a tooltip that appears as you hover over the player bar to display additional information."
   ]
  },
  {
   "cell_type": "code",
   "execution_count": 276,
   "metadata": {},
   "outputs": [
    {
     "data": {
      "application/vnd.vegalite.v3+json": {
       "$schema": "https://vega.github.io/schema/vega-lite/v3.4.0.json",
       "config": {
        "mark": {
         "tooltip": null
        },
        "view": {
         "height": 300,
         "width": 400
        }
       },
       "data": {
        "name": "data-549f4a1ea1f81d17ce047298969b09fc"
       },
       "datasets": {
        "data-549f4a1ea1f81d17ce047298969b09fc": [
         {
          "age": 27,
          "appearances": 26,
          "minutes": 2340,
          "mp_pct": 1,
          "player": "B. Leno",
          "position": "Goalie"
         },
         {
          "age": 24,
          "appearances": 6,
          "minutes": 533,
          "mp_pct": 0.23,
          "player": "Bellerín",
          "position": "Defense"
         },
         {
          "age": 22,
          "appearances": 5,
          "minutes": 299,
          "mp_pct": 0.13,
          "player": "K. Tierney",
          "position": "Defense"
         },
         {
          "age": 31,
          "appearances": 18,
          "minutes": 1607,
          "mp_pct": 0.69,
          "player": "Sokratis",
          "position": "Defense"
         },
         {
          "age": 24,
          "appearances": 2,
          "minutes": 86,
          "mp_pct": 0.04,
          "player": "R. Holding",
          "position": "Defense"
         },
         {
          "age": 27,
          "appearances": 7,
          "minutes": 530,
          "mp_pct": 0.23,
          "player": "S. Mustafi",
          "position": "Defense"
         },
         {
          "age": 25,
          "appearances": 14,
          "minutes": 1103,
          "mp_pct": 0.47,
          "player": "C. Chambers",
          "position": "Defense"
         },
         {
          "age": 32,
          "appearances": 23,
          "minutes": 2006,
          "mp_pct": 0.86,
          "player": "David Luiz",
          "position": "Defense"
         },
         {
          "age": 26,
          "appearances": 16,
          "minutes": 1089,
          "mp_pct": 0.47,
          "player": "S. Kolašinac",
          "position": "Defense"
         },
         {
          "age": 23,
          "appearances": 12,
          "minutes": 745,
          "mp_pct": 0.32,
          "player": "Dani Ceballos",
          "position": "Midfield"
         },
         {
          "age": 31,
          "appearances": 16,
          "minutes": 1278,
          "mp_pct": 0.55,
          "player": "M. Özil",
          "position": "Midfield"
         },
         {
          "age": 24,
          "appearances": 23,
          "minutes": 1357,
          "mp_pct": 0.58,
          "player": "L. Torreira",
          "position": "Midfield"
         },
         {
          "age": 22,
          "appearances": 14,
          "minutes": 1211,
          "mp_pct": 0.52,
          "player": "A. Maitland-Niles",
          "position": "Defense"
         },
         {
          "age": 20,
          "appearances": 19,
          "minutes": 576,
          "mp_pct": 0.25,
          "player": "J. Willock",
          "position": "Midfield"
         },
         {
          "age": 20,
          "appearances": 21,
          "minutes": 1582,
          "mp_pct": 0.68,
          "player": "M. Guendouzi",
          "position": "Midfield"
         },
         {
          "age": 27,
          "appearances": 20,
          "minutes": 1728,
          "mp_pct": 0.74,
          "player": "G. Xhaka",
          "position": "Midfield"
         },
         {
          "age": 18,
          "appearances": 16,
          "minutes": 1014,
          "mp_pct": 0.43,
          "player": "B. Saka",
          "position": "Midfield"
         },
         {
          "age": 28,
          "appearances": 19,
          "minutes": 1287,
          "mp_pct": 0.55,
          "player": "A. Lacazette",
          "position": "Forward"
         },
         {
          "age": 30,
          "appearances": 24,
          "minutes": 2125,
          "mp_pct": 0.91,
          "player": "P. Aubameyang",
          "position": "Forward"
         },
         {
          "age": 24,
          "appearances": 22,
          "minutes": 1432,
          "mp_pct": 0.61,
          "player": "N. Pépé",
          "position": "Forward"
         },
         {
          "age": 20,
          "appearances": 10,
          "minutes": 440,
          "mp_pct": 0.19,
          "player": "R. Nelson",
          "position": "Forward"
         },
         {
          "age": 20,
          "appearances": 3,
          "minutes": 102,
          "mp_pct": 0.04,
          "player": "E. Nketiah",
          "position": "Forward"
         },
         {
          "age": 18,
          "appearances": 14,
          "minutes": 656,
          "mp_pct": 0.28,
          "player": "Martinelli",
          "position": "Forward"
         }
        ]
       },
       "encoding": {
        "tooltip": [
         {
          "field": "player",
          "type": "nominal"
         },
         {
          "field": "age",
          "type": "quantitative"
         },
         {
          "field": "appearances",
          "type": "quantitative"
         },
         {
          "field": "minutes",
          "type": "quantitative"
         }
        ],
        "x": {
         "field": "minutes",
         "type": "quantitative"
        },
        "y": {
         "field": "player",
         "sort": {
          "field": "minutes",
          "order": "descending"
         },
         "type": "nominal"
        }
       },
       "mark": {
        "color": "firebrick",
        "type": "bar"
       },
       "title": {
        "text": "Arsenal league minutes by player - Through Matchday 25"
       }
      },
      "image/png": "[encoded data removed]",
      "text/plain": [
       "<VegaLite 3 object>\n",
       "\n",
       "If you see this message, it means the renderer has not been properly enabled\n",
       "for the frontend that you are using. For more information, see\n",
       "https://altair-viz.github.io/user_guide/troubleshooting.html\n"
      ]
     },
     "execution_count": 276,
     "metadata": {},
     "output_type": "execute_result"
    }
   ],
   "source": [
    "\n",
    "chart = alt.Chart(df).mark_bar(color='firebrick').encode(\n",
    "    x='minutes:Q',\n",
    "    y=alt.Y(\n",
    "        'player',\n",
    "        sort=alt.SortField(field=\"minutes\", order='descending')\n",
    "    ),\n",
    "    tooltip = ['player', 'age', 'appearances', 'minutes']\n",
    ")\n",
    "\n",
    "chart.properties(\n",
    "    title={\n",
    "        'text':'Arsenal league minutes by player - Through Matchday 25'\n",
    "    }\n",
    ").display(renderer='svg')\n"
   ]
  },
  {
   "cell_type": "markdown",
   "metadata": {},
   "source": [
    "It could also be interesting to see the distribution of minutes across different age-groups in the squad.\n",
    "\n",
    "We'll drop the goalie position since only Leno has featured for Arsenal in the league this season."
   ]
  },
  {
   "cell_type": "code",
   "execution_count": 254,
   "metadata": {},
   "outputs": [
    {
     "data": {
      "text/html": [
       "<div>\n",
       "<style scoped>\n",
       "    .dataframe tbody tr th:only-of-type {\n",
       "        vertical-align: middle;\n",
       "    }\n",
       "\n",
       "    .dataframe tbody tr th {\n",
       "        vertical-align: top;\n",
       "    }\n",
       "\n",
       "    .dataframe thead th {\n",
       "        text-align: right;\n",
       "    }\n",
       "</style>\n",
       "<table border=\"1\" class=\"dataframe\">\n",
       "  <thead>\n",
       "    <tr style=\"text-align: right;\">\n",
       "      <th></th>\n",
       "      <th>player</th>\n",
       "      <th>age</th>\n",
       "      <th>position</th>\n",
       "      <th>minutes</th>\n",
       "      <th>appearances</th>\n",
       "      <th>mp_pct</th>\n",
       "      <th>age_group</th>\n",
       "    </tr>\n",
       "  </thead>\n",
       "  <tbody>\n",
       "    <tr>\n",
       "      <th>0</th>\n",
       "      <td>B. Leno</td>\n",
       "      <td>27</td>\n",
       "      <td>Goalie</td>\n",
       "      <td>2340</td>\n",
       "      <td>26</td>\n",
       "      <td>1.00</td>\n",
       "      <td>Prime</td>\n",
       "    </tr>\n",
       "    <tr>\n",
       "      <th>3</th>\n",
       "      <td>Bellerín</td>\n",
       "      <td>24</td>\n",
       "      <td>Defense</td>\n",
       "      <td>533</td>\n",
       "      <td>6</td>\n",
       "      <td>0.23</td>\n",
       "      <td>Prime</td>\n",
       "    </tr>\n",
       "    <tr>\n",
       "      <th>4</th>\n",
       "      <td>K. Tierney</td>\n",
       "      <td>22</td>\n",
       "      <td>Defense</td>\n",
       "      <td>299</td>\n",
       "      <td>5</td>\n",
       "      <td>0.13</td>\n",
       "      <td>Youth</td>\n",
       "    </tr>\n",
       "    <tr>\n",
       "      <th>5</th>\n",
       "      <td>Sokratis</td>\n",
       "      <td>31</td>\n",
       "      <td>Defense</td>\n",
       "      <td>1607</td>\n",
       "      <td>18</td>\n",
       "      <td>0.69</td>\n",
       "      <td>Senior</td>\n",
       "    </tr>\n",
       "    <tr>\n",
       "      <th>6</th>\n",
       "      <td>R. Holding</td>\n",
       "      <td>24</td>\n",
       "      <td>Defense</td>\n",
       "      <td>86</td>\n",
       "      <td>2</td>\n",
       "      <td>0.04</td>\n",
       "      <td>Prime</td>\n",
       "    </tr>\n",
       "  </tbody>\n",
       "</table>\n",
       "</div>"
      ],
      "text/plain": [
       "       player  age position  minutes  appearances  mp_pct age_group\n",
       "0     B. Leno   27   Goalie     2340           26    1.00     Prime\n",
       "3    Bellerín   24  Defense      533            6    0.23     Prime\n",
       "4  K. Tierney   22  Defense      299            5    0.13     Youth\n",
       "5    Sokratis   31  Defense     1607           18    0.69    Senior\n",
       "6  R. Holding   24  Defense       86            2    0.04     Prime"
      ]
     },
     "execution_count": 254,
     "metadata": {},
     "output_type": "execute_result"
    }
   ],
   "source": [
    "df2 = df.copy()\n",
    "\n",
    "def age_group(df):\n",
    "    \n",
    "    if df.age >= 16 and df.age < 24:\n",
    "        df['age_group'] = 'Youth'\n",
    "    elif df.age >= 24 and df.age <= 30:\n",
    "        df['age_group'] = 'Prime'\n",
    "    else: \n",
    "        df['age_group'] = 'Senior'\n",
    "    return df\n",
    "\n",
    "#df2.assign(age_group=age_group(df))\n",
    "df2 = df2.apply(age_group, axis=1)\n",
    "df2.head()"
   ]
  },
  {
   "cell_type": "markdown",
   "metadata": {},
   "source": [
    "We can visualize this information using a stacked bar-chart."
   ]
  },
  {
   "cell_type": "code",
   "execution_count": 256,
   "metadata": {},
   "outputs": [
    {
     "data": {
      "application/vnd.vegalite.v3+json": {
       "$schema": "https://vega.github.io/schema/vega-lite/v3.4.0.json",
       "config": {
        "mark": {
         "tooltip": null
        },
        "view": {
         "height": 300,
         "width": 400
        }
       },
       "data": {
        "name": "data-42f0fb27cade2c46fca14ccb96f56799"
       },
       "datasets": {
        "data-42f0fb27cade2c46fca14ccb96f56799": [
         {
          "age": 27,
          "age_group": "Prime",
          "appearances": 26,
          "minutes": 2340,
          "mp_pct": 1,
          "player": "B. Leno",
          "position": "Goalie"
         },
         {
          "age": 24,
          "age_group": "Prime",
          "appearances": 6,
          "minutes": 533,
          "mp_pct": 0.23,
          "player": "Bellerín",
          "position": "Defense"
         },
         {
          "age": 22,
          "age_group": "Youth",
          "appearances": 5,
          "minutes": 299,
          "mp_pct": 0.13,
          "player": "K. Tierney",
          "position": "Defense"
         },
         {
          "age": 31,
          "age_group": "Senior",
          "appearances": 18,
          "minutes": 1607,
          "mp_pct": 0.69,
          "player": "Sokratis",
          "position": "Defense"
         },
         {
          "age": 24,
          "age_group": "Prime",
          "appearances": 2,
          "minutes": 86,
          "mp_pct": 0.04,
          "player": "R. Holding",
          "position": "Defense"
         },
         {
          "age": 27,
          "age_group": "Prime",
          "appearances": 7,
          "minutes": 530,
          "mp_pct": 0.23,
          "player": "S. Mustafi",
          "position": "Defense"
         },
         {
          "age": 25,
          "age_group": "Prime",
          "appearances": 14,
          "minutes": 1103,
          "mp_pct": 0.47,
          "player": "C. Chambers",
          "position": "Defense"
         },
         {
          "age": 32,
          "age_group": "Senior",
          "appearances": 23,
          "minutes": 2006,
          "mp_pct": 0.86,
          "player": "David Luiz",
          "position": "Defense"
         },
         {
          "age": 26,
          "age_group": "Prime",
          "appearances": 16,
          "minutes": 1089,
          "mp_pct": 0.47,
          "player": "S. Kolašinac",
          "position": "Defense"
         },
         {
          "age": 23,
          "age_group": "Youth",
          "appearances": 12,
          "minutes": 745,
          "mp_pct": 0.32,
          "player": "Dani Ceballos",
          "position": "Midfield"
         },
         {
          "age": 31,
          "age_group": "Senior",
          "appearances": 16,
          "minutes": 1278,
          "mp_pct": 0.55,
          "player": "M. Özil",
          "position": "Midfield"
         },
         {
          "age": 24,
          "age_group": "Prime",
          "appearances": 23,
          "minutes": 1357,
          "mp_pct": 0.58,
          "player": "L. Torreira",
          "position": "Midfield"
         },
         {
          "age": 22,
          "age_group": "Youth",
          "appearances": 14,
          "minutes": 1211,
          "mp_pct": 0.52,
          "player": "A. Maitland-Niles",
          "position": "Defense"
         },
         {
          "age": 20,
          "age_group": "Youth",
          "appearances": 19,
          "minutes": 576,
          "mp_pct": 0.25,
          "player": "J. Willock",
          "position": "Midfield"
         },
         {
          "age": 20,
          "age_group": "Youth",
          "appearances": 21,
          "minutes": 1582,
          "mp_pct": 0.68,
          "player": "M. Guendouzi",
          "position": "Midfield"
         },
         {
          "age": 27,
          "age_group": "Prime",
          "appearances": 20,
          "minutes": 1728,
          "mp_pct": 0.74,
          "player": "G. Xhaka",
          "position": "Midfield"
         },
         {
          "age": 18,
          "age_group": "Youth",
          "appearances": 16,
          "minutes": 1014,
          "mp_pct": 0.43,
          "player": "B. Saka",
          "position": "Midfield"
         },
         {
          "age": 28,
          "age_group": "Prime",
          "appearances": 19,
          "minutes": 1287,
          "mp_pct": 0.55,
          "player": "A. Lacazette",
          "position": "Forward"
         },
         {
          "age": 30,
          "age_group": "Prime",
          "appearances": 24,
          "minutes": 2125,
          "mp_pct": 0.91,
          "player": "P. Aubameyang",
          "position": "Forward"
         },
         {
          "age": 24,
          "age_group": "Prime",
          "appearances": 22,
          "minutes": 1432,
          "mp_pct": 0.61,
          "player": "N. Pépé",
          "position": "Forward"
         },
         {
          "age": 20,
          "age_group": "Youth",
          "appearances": 10,
          "minutes": 440,
          "mp_pct": 0.19,
          "player": "R. Nelson",
          "position": "Forward"
         },
         {
          "age": 20,
          "age_group": "Youth",
          "appearances": 3,
          "minutes": 102,
          "mp_pct": 0.04,
          "player": "E. Nketiah",
          "position": "Forward"
         },
         {
          "age": 18,
          "age_group": "Youth",
          "appearances": 14,
          "minutes": 656,
          "mp_pct": 0.28,
          "player": "Martinelli",
          "position": "Forward"
         }
        ]
       },
       "encoding": {
        "color": {
         "field": "age_group",
         "type": "nominal"
        },
        "x": {
         "field": "minutes",
         "title": "Total Minutes Played",
         "type": "quantitative"
        },
        "y": {
         "field": "position",
         "title": "Position",
         "type": "nominal"
        }
       },
       "mark": "bar"
      },
      "image/png": "[encoded data removed]",
      "text/plain": [
       "<VegaLite 3 object>\n",
       "\n",
       "If you see this message, it means the renderer has not been properly enabled\n",
       "for the frontend that you are using. For more information, see\n",
       "https://altair-viz.github.io/user_guide/troubleshooting.html\n"
      ]
     },
     "execution_count": 256,
     "metadata": {},
     "output_type": "execute_result"
    }
   ],
   "source": [
    "df2.drop\n",
    "\n",
    "alt.Chart(df2).mark_bar().encode(\n",
    "    x=alt.X('minutes:Q', title='Total Minutes Played'),\n",
    "    y=alt.Y('position:N', title='Position'),\n",
    "    color='age_group:N'\n",
    ").display(renderer='svg')\n"
   ]
  }
 ],
 "metadata": {
  "kernelspec": {
   "display_name": "python_3.7.4",
   "language": "python",
   "name": "python_3.7.4"
  },
  "language_info": {
   "codemirror_mode": {
    "name": "ipython",
    "version": 3
   },
   "file_extension": ".py",
   "mimetype": "text/x-python",
   "name": "python",
   "nbconvert_exporter": "python",
   "pygments_lexer": "ipython3",
   "version": "3.7.4"
  }
 },
 "nbformat": 4,
 "nbformat_minor": 4
}
