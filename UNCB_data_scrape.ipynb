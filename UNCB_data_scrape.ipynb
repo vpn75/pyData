{
 "cells": [
  {
   "cell_type": "code",
   "execution_count": 3,
   "metadata": {
    "collapsed": true
   },
   "outputs": [],
   "source": [
    "import requests\n",
    "from bs4 import BeautifulSoup\n",
    "import pandas as pd\n",
    "import numpy as np\n",
    "import matplotlib.pyplot as plt\n",
    "import seaborn as sns\n",
    "import feather\n",
    "\n",
    "%matplotlib inline"
   ]
  },
  {
   "cell_type": "code",
   "execution_count": 4,
   "metadata": {
    "collapsed": false
   },
   "outputs": [],
   "source": [
    "\n",
    "def get_header():\n",
    "    #Set initial colname values\n",
    "    header = ['YEAR','PLAYER','GP']\n",
    "    url = \"http://espn.go.com/mens-college-basketball/team/stats/_/id/153/north-carolina-tar-heels\"\n",
    "    page = requests.get(url).text\n",
    "    soup = BeautifulSoup(page, \"html.parser\")\n",
    "    \n",
    "    #Pull colnames from from 2nd table omitting player name\n",
    "    table = soup.find_all('table')[1]\n",
    "    #Skip first two rows\n",
    "    cols = table.find_all('tr')[2]\n",
    "    tds = cols.find_all('td')\n",
    "    #Skip first column containing player name\n",
    "    header += [c.text for c in tds[1:]]\n",
    "    \n",
    "    return header\n",
    "\n",
    "def player_data_scrape(year):\n",
    "    header = get_header()\n",
    "    data = []\n",
    "    data.append(header)\n",
    "    if year == 2016:\n",
    "        url = \"http://espn.go.com/mens-college-basketball/team/stats/_/id/153/north-carolina-tar-heels\"\n",
    "    else:\n",
    "        url = \"http://espn.go.com/mens-college-basketball/team/stats/_/id/153/year/{}/north-carolina-tar-heels\".format(year)\n",
    "\n",
    "    page = requests.get(url).text\n",
    "    soup = BeautifulSoup(page, \"html.parser\")\n",
    "    \n",
    "    #Scrape player-name/games-played from 1st table\n",
    "    table1 = soup.find_all('table')[0]\n",
    "    table2 = soup.find_all('table')[1]\n",
    "    #Skip header row and last row in table\n",
    "    trs = table1.find_all('tr')[2:-1]\n",
    "    \n",
    "    for tr in trs:\n",
    "        row = []\n",
    "        player = tr.find_all('td')[0].text.upper()\n",
    "        gp = tr.find_all('td')[1].text\n",
    "        row.append(int(year))\n",
    "        row.append(player)\n",
    "        row.append(int(gp))\n",
    "        data.append(row)\n",
    "    \n",
    "    tots = table2.find_all('tr')[3:-1]\n",
    "\n",
    "    for i,tr in enumerate(tots):\n",
    "        tot_row = [int(c.text) for c in tr.find_all('td')[1:]]\n",
    "        data[i+1] += tot_row\n",
    "      \n",
    "    return data\n"
   ]
  },
  {
   "cell_type": "code",
   "execution_count": 5,
   "metadata": {
    "collapsed": false
   },
   "outputs": [
    {
     "name": "stdout",
     "output_type": "stream",
     "text": [
      "Getting data for year: 2003\n",
      "Getting data for year: 2004\n",
      "Getting data for year: 2005\n",
      "Getting data for year: 2006\n",
      "Getting data for year: 2007\n",
      "Getting data for year: 2008\n",
      "Getting data for year: 2009\n",
      "Getting data for year: 2010\n",
      "Getting data for year: 2011\n",
      "Getting data for year: 2012\n",
      "Getting data for year: 2013\n",
      "Getting data for year: 2014\n",
      "Getting data for year: 2015\n",
      "Done!\n"
     ]
    },
    {
     "data": {
      "text/plain": [
       "13"
      ]
     },
     "execution_count": 5,
     "metadata": {},
     "output_type": "execute_result"
    }
   ],
   "source": [
    "#Scrape our data for years 2003-2016\n",
    "unc = []\n",
    "for year in range(2003,2016):\n",
    "    print(\"Getting data for year: {}\".format(str(year)))\n",
    "    data = player_data_scrape(year)\n",
    "    unc.append(data)\n",
    "    \n",
    "print(\"Done!\")\n",
    "len(unc)"
   ]
  },
  {
   "cell_type": "code",
   "execution_count": 6,
   "metadata": {
    "collapsed": false
   },
   "outputs": [
    {
     "data": {
      "text/html": [
       "<div>\n",
       "<table border=\"1\" class=\"dataframe\">\n",
       "  <thead>\n",
       "    <tr style=\"text-align: right;\">\n",
       "      <th></th>\n",
       "      <th>YEAR</th>\n",
       "      <th>PLAYER</th>\n",
       "      <th>GP</th>\n",
       "      <th>MIN</th>\n",
       "      <th>FGM</th>\n",
       "      <th>FGA</th>\n",
       "      <th>FTM</th>\n",
       "      <th>FTA</th>\n",
       "      <th>3PM</th>\n",
       "      <th>3PA</th>\n",
       "      <th>PTS</th>\n",
       "      <th>OFFR</th>\n",
       "      <th>DEFR</th>\n",
       "      <th>REB</th>\n",
       "      <th>AST</th>\n",
       "      <th>TO</th>\n",
       "      <th>STL</th>\n",
       "      <th>BLK</th>\n",
       "    </tr>\n",
       "  </thead>\n",
       "  <tbody>\n",
       "    <tr>\n",
       "      <th>0</th>\n",
       "      <td>2003</td>\n",
       "      <td>RASHAD MCCANTS</td>\n",
       "      <td>35</td>\n",
       "      <td>1046</td>\n",
       "      <td>215</td>\n",
       "      <td>438</td>\n",
       "      <td>92</td>\n",
       "      <td>132</td>\n",
       "      <td>72</td>\n",
       "      <td>174</td>\n",
       "      <td>594</td>\n",
       "      <td>58</td>\n",
       "      <td>104</td>\n",
       "      <td>162</td>\n",
       "      <td>51</td>\n",
       "      <td>81</td>\n",
       "      <td>49</td>\n",
       "      <td>19</td>\n",
       "    </tr>\n",
       "    <tr>\n",
       "      <th>1</th>\n",
       "      <td>2003</td>\n",
       "      <td>JAWAD WILLIAMS</td>\n",
       "      <td>34</td>\n",
       "      <td>1137</td>\n",
       "      <td>182</td>\n",
       "      <td>406</td>\n",
       "      <td>97</td>\n",
       "      <td>129</td>\n",
       "      <td>45</td>\n",
       "      <td>136</td>\n",
       "      <td>506</td>\n",
       "      <td>54</td>\n",
       "      <td>137</td>\n",
       "      <td>191</td>\n",
       "      <td>67</td>\n",
       "      <td>60</td>\n",
       "      <td>35</td>\n",
       "      <td>37</td>\n",
       "    </tr>\n",
       "    <tr>\n",
       "      <th>2</th>\n",
       "      <td>2003</td>\n",
       "      <td>RAYMOND FELTON</td>\n",
       "      <td>35</td>\n",
       "      <td>1240</td>\n",
       "      <td>151</td>\n",
       "      <td>379</td>\n",
       "      <td>79</td>\n",
       "      <td>114</td>\n",
       "      <td>69</td>\n",
       "      <td>193</td>\n",
       "      <td>450</td>\n",
       "      <td>29</td>\n",
       "      <td>114</td>\n",
       "      <td>143</td>\n",
       "      <td>235</td>\n",
       "      <td>130</td>\n",
       "      <td>56</td>\n",
       "      <td>9</td>\n",
       "    </tr>\n",
       "    <tr>\n",
       "      <th>3</th>\n",
       "      <td>2003</td>\n",
       "      <td>SEAN MAY</td>\n",
       "      <td>11</td>\n",
       "      <td>308</td>\n",
       "      <td>51</td>\n",
       "      <td>108</td>\n",
       "      <td>23</td>\n",
       "      <td>40</td>\n",
       "      <td>0</td>\n",
       "      <td>4</td>\n",
       "      <td>125</td>\n",
       "      <td>25</td>\n",
       "      <td>64</td>\n",
       "      <td>89</td>\n",
       "      <td>11</td>\n",
       "      <td>21</td>\n",
       "      <td>17</td>\n",
       "      <td>20</td>\n",
       "    </tr>\n",
       "    <tr>\n",
       "      <th>4</th>\n",
       "      <td>2003</td>\n",
       "      <td>JACKIE MANUEL</td>\n",
       "      <td>35</td>\n",
       "      <td>877</td>\n",
       "      <td>85</td>\n",
       "      <td>202</td>\n",
       "      <td>65</td>\n",
       "      <td>106</td>\n",
       "      <td>19</td>\n",
       "      <td>72</td>\n",
       "      <td>254</td>\n",
       "      <td>52</td>\n",
       "      <td>87</td>\n",
       "      <td>139</td>\n",
       "      <td>71</td>\n",
       "      <td>87</td>\n",
       "      <td>46</td>\n",
       "      <td>28</td>\n",
       "    </tr>\n",
       "  </tbody>\n",
       "</table>\n",
       "</div>"
      ],
      "text/plain": [
       "   YEAR          PLAYER  GP   MIN  FGM  FGA  FTM  FTA  3PM  3PA  PTS  OFFR  \\\n",
       "0  2003  RASHAD MCCANTS  35  1046  215  438   92  132   72  174  594    58   \n",
       "1  2003  JAWAD WILLIAMS  34  1137  182  406   97  129   45  136  506    54   \n",
       "2  2003  RAYMOND FELTON  35  1240  151  379   79  114   69  193  450    29   \n",
       "3  2003        SEAN MAY  11   308   51  108   23   40    0    4  125    25   \n",
       "4  2003   JACKIE MANUEL  35   877   85  202   65  106   19   72  254    52   \n",
       "\n",
       "   DEFR  REB  AST   TO  STL  BLK  \n",
       "0   104  162   51   81   49   19  \n",
       "1   137  191   67   60   35   37  \n",
       "2   114  143  235  130   56    9  \n",
       "3    64   89   11   21   17   20  \n",
       "4    87  139   71   87   46   28  "
      ]
     },
     "execution_count": 6,
     "metadata": {},
     "output_type": "execute_result"
    }
   ],
   "source": [
    "#Combine our data into a single Pandas dataframe\n",
    "df = pd.concat(pd.DataFrame(year[1:]) for year in unc)\n",
    "#Write our dataframe header\n",
    "df.columns = unc[0][0]\n",
    "df.set_index(['YEAR','PLAYER'])\n",
    "df.head()\n"
   ]
  },
  {
   "cell_type": "code",
   "execution_count": 7,
   "metadata": {
    "collapsed": false
   },
   "outputs": [
    {
     "name": "stdout",
     "output_type": "stream",
     "text": [
      "Feather file successfully written!\n"
     ]
    },
    {
     "data": {
      "text/plain": [
       "(205, 18)"
      ]
     },
     "execution_count": 7,
     "metadata": {},
     "output_type": "execute_result"
    }
   ],
   "source": [
    "#Confirm dataframe dimensions\n",
    "df.shape\n",
    "\n",
    "#Serialize our dataframe to Feather object for future analysis\n",
    "feather_path = \"uncb_data_2003_2016.feather\"\n",
    "feather.write_dataframe(df, feather_path)\n",
    "print(\"Feather file successfully written!\")\n",
    "\n",
    "#Confirm\n",
    "df2 = feather.read_dataframe(feather_path)\n",
    "df2.shape\n"
   ]
  }
 ],
 "metadata": {
  "kernelspec": {
   "display_name": "Python 3",
   "language": "python",
   "name": "python3"
  },
  "language_info": {
   "codemirror_mode": {
    "name": "ipython",
    "version": 3
   },
   "file_extension": ".py",
   "mimetype": "text/x-python",
   "name": "python",
   "nbconvert_exporter": "python",
   "pygments_lexer": "ipython3",
   "version": "3.5.1"
  }
 },
 "nbformat": 4,
 "nbformat_minor": 0
}
